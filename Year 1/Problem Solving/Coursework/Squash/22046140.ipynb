{
 "cells": [
  {
   "cell_type": "code",
   "execution_count": 13,
   "metadata": {},
   "outputs": [],
   "source": [
    "# You may add additional imports here\n",
    "import random\n",
    "import csv\n",
    "import matplotlib.pyplot as plt"
   ]
  },
  {
   "cell_type": "markdown",
   "metadata": {},
   "source": [
    "Question 1\n",
    "==========\n",
    "\n",
    "All parts of Question 1 use the _point-a-rally (PARS) scoring_ system.\n",
    "\n",
    "**Question 1a:** Complete the following function so that it implements the PARS algorithm from the coursework specification.\n",
    "\n",
    "**[Functionality: 7 marks]**"
   ]
  },
  {
   "cell_type": "code",
   "execution_count": 14,
   "metadata": {},
   "outputs": [],
   "source": [
    "def game(ra, rb):\n",
    "    # Probability A wins\n",
    "    PA = ra/(ra + rb)\n",
    "    a_score = 0\n",
    "    b_score = 0\n",
    "\n",
    "    while not ((a_score >= 11 and (b_score <= a_score - 2 )) or (b_score >= 11 and (a_score <= b_score - 2))):\n",
    "        r = random.random()\n",
    "        if (r < PA): \n",
    "            # A scores\n",
    "            a_score += 1\n",
    "        else: \n",
    "            # B scores\n",
    "            b_score += 1\n",
    "\n",
    "    return [a_score, b_score]"
   ]
  },
  {
   "cell_type": "markdown",
   "metadata": {},
   "source": [
    "**Testing:** If the random seed is set to 57, then calling the function with arguments `70` and `30` should return `(11,5)`."
   ]
  },
  {
   "cell_type": "code",
   "execution_count": 15,
   "metadata": {},
   "outputs": [
    {
     "name": "stdout",
     "output_type": "stream",
     "text": [
      "[11, 5]\n"
     ]
    }
   ],
   "source": [
    "random.seed(57)\n",
    "print(game(70, 30))"
   ]
  },
  {
   "cell_type": "markdown",
   "metadata": {},
   "source": [
    "**Question 1b:** Complete the following function `win_probability_game(ra, rb, simulations)` to simulate `simulations` games in order to estimate the probability that a player with ability `ra` will win a game against a player of ability `rb`.\n",
    "\n",
    "**[Functionality: 4 marks]**"
   ]
  },
  {
   "cell_type": "code",
   "execution_count": 16,
   "metadata": {},
   "outputs": [],
   "source": [
    "def win_probability_game(ra, rb, simulations):\n",
    "    a_wins = 0\n",
    "    b_wins = 0\n",
    "\n",
    "    for i in range(simulations):\n",
    "        result = game(ra, rb)\n",
    "        if (result[0] > result[1]):\n",
    "            a_wins += 1\n",
    "        else:\n",
    "            b_wins += 1\n",
    "\n",
    "    return a_wins / (a_wins + b_wins)\n",
    "    "
   ]
  },
  {
   "cell_type": "markdown",
   "metadata": {},
   "source": [
    "**Testing:** Given sufficient simulations, calling the function with abilities `70` and `30` should give the answer `0.98` when printed to 2 decimal places."
   ]
  },
  {
   "cell_type": "code",
   "execution_count": 17,
   "metadata": {},
   "outputs": [
    {
     "name": "stdout",
     "output_type": "stream",
     "text": [
      "0.98\n"
     ]
    }
   ],
   "source": [
    "# Print win_probability_game(70, 30) to 2 decimal places for a suitable value of n:\n",
    "print(round(win_probability_game(70, 30, 100000), 2))"
   ]
  },
  {
   "cell_type": "markdown",
   "metadata": {},
   "source": [
    "**Question 1c:** Assume players abilities are given in a csv file with the format:\n",
    "```\n",
    "player a ability, player b ability,\n",
    "60, 20,\n",
    "100, 55,\n",
    "50, 40,\n",
    "20, 70,\n",
    "95, 85,\n",
    "```\n",
    "Complete the following function to read in a specified csv file of this format and return a `list` of `tuple`s containing each pair of abilities.\n",
    "\n",
    "**[Functionality: 4 marks]**"
   ]
  },
  {
   "cell_type": "code",
   "execution_count": 18,
   "metadata": {},
   "outputs": [],
   "source": [
    "def read_abilities(file_name): # HINT: what should the argument be?\n",
    "    pairs = []\n",
    "    with open(file_name) as csvfile:\n",
    "        reader = csv.reader(csvfile)\n",
    "\n",
    "        # Skip the first line (the header)\n",
    "        rows = iter(reader)\n",
    "        next(rows)\n",
    "\n",
    "        for row in rows:\n",
    "            pairs.append((int(row[0]), int(row[1])))\n",
    "\n",
    "    return pairs"
   ]
  },
  {
   "cell_type": "markdown",
   "metadata": {},
   "source": [
    "**Testing:** Calling the function to read the file `test.csv` from Learning Central should return `[(60, 20), (100, 55), (50, 40), (20, 70), (95, 85)]`"
   ]
  },
  {
   "cell_type": "code",
   "execution_count": 19,
   "metadata": {},
   "outputs": [
    {
     "data": {
      "text/plain": [
       "[(60, 20), (100, 55), (50, 40), (20, 70), (95, 85)]"
      ]
     },
     "execution_count": 19,
     "metadata": {},
     "output_type": "execute_result"
    }
   ],
   "source": [
    "# Print the result of calling the function for the file `test.csv`\n",
    "read_abilities(\"test.csv\")"
   ]
  },
  {
   "cell_type": "markdown",
   "metadata": {},
   "source": [
    "**Question 1d:** Write a function that takes a `list` of the format returned by your answer to 1c as an argument, and uses `matplotlib` to produce a plot (with labelled axes) showing the probability that player a beats player b (in a game) against `ra / r_b` for each pair.\n",
    "\n",
    "**[Functionality: 5 marks]**"
   ]
  },
  {
   "cell_type": "code",
   "execution_count": 20,
   "metadata": {},
   "outputs": [],
   "source": [
    "def plot_win_probabilities(skill_levels, simulations): # HINT: what should the argument be?\n",
    "    a_b_ratio = []\n",
    "    a_probability = []\n",
    "\n",
    "    for i in range(len(skill_levels)):\n",
    "        p = skill_levels[i]\n",
    "        a_b_ratio.append(p[0] / p[1])\n",
    "        a_probability.append((win_probability_game(p[0], p[1], simulations)))\n",
    "\n",
    "    plt.xlabel(\"ra / rb\")\n",
    "    plt.ylabel(\"Probability a wins\")\n",
    "    plt.plot(a_b_ratio, a_probability, 'ro')\n",
    "\n",
    "\n",
    "    return a_probability"
   ]
  },
  {
   "cell_type": "markdown",
   "metadata": {},
   "source": [
    "**Testing:** The following figure (or similar) should result from the data `[(60, 20), (100, 55), (50, 40), (20, 70), (95, 85)]'\n",
    "\n",
    "<img src=\"./win_probabilities.png\" alt=\"Win probabilities\" width=\"500\">\n"
   ]
  },
  {
   "cell_type": "code",
   "execution_count": 21,
   "metadata": {},
   "outputs": [
    {
     "data": {
      "text/plain": [
       "[0.991, 0.922, 0.699, 0.002, 0.617]"
      ]
     },
     "execution_count": 21,
     "metadata": {},
     "output_type": "execute_result"
    },
    {
     "data": {
      "image/png": "[encoded data removed]",
      "text/plain": [
       "<Figure size 640x480 with 1 Axes>"
      ]
     },
     "metadata": {},
     "output_type": "display_data"
    }
   ],
   "source": [
    "# Call the function to plot the figure here\n",
    "plot_win_probabilities(read_abilities(\"test.csv\"), 1000)"
   ]
  },
  {
   "cell_type": "markdown",
   "metadata": {},
   "source": [
    "**Question 1e:** Complete the following function `win_probability_match(ra, rb, simulations, m)` to simulate `simulations` matches which are won by the first player to win `m` games, and returns an estimate of the probability that a player with ability `ra` will win such a match against a player of ability `rb`.\n",
    "\n",
    "Provide code that works out the smallest value of `m` such that `win_probability_match(60, 40, simulations, m)` is at least `0.9`. \n",
    "\n",
    "_HINT: make sure you use an appropriate value for `simulations`._\n",
    "\n",
    "**[Functionality: 5 marks]**"
   ]
  },
  {
   "cell_type": "code",
   "execution_count": 22,
   "metadata": {},
   "outputs": [
    {
     "data": {
      "text/plain": [
       "0.9311"
      ]
     },
     "execution_count": 22,
     "metadata": {},
     "output_type": "execute_result"
    }
   ],
   "source": [
    "def win_probability_match(ra, rb, simulations, m):\n",
    "    # How many matches either a or b have won\n",
    "    a_match_wins = 0\n",
    "    b_match_wins = 0\n",
    "    \n",
    "    # How many time a or b won a simulation\n",
    "    a_sim_wins = 0\n",
    "    b_sim_wins = 0\n",
    "\n",
    "    for i in range(simulations):\n",
    "        while (a_match_wins < m ) and (b_match_wins < m):\n",
    "            p = game(ra, rb)\n",
    "            if (p[0] > p[1]):\n",
    "                a_match_wins += 1\n",
    "            else:\n",
    "                b_match_wins += 1\n",
    "        \n",
    "        if (a_match_wins > b_match_wins):\n",
    "            a_sim_wins += 1\n",
    "        else:\n",
    "            b_sim_wins += 1\n",
    "\n",
    "        # Reset a and b match wins\n",
    "        a_match_wins = 0\n",
    "        b_match_wins = 0\n",
    "\n",
    "    return a_sim_wins / (a_sim_wins + b_sim_wins)\n",
    "    \n",
    "\n",
    "# Calculate lowest value of m here\n",
    "win_probability_match(60, 40, 10000, 2)"
   ]
  },
  {
   "cell_type": "markdown",
   "metadata": {},
   "source": [
    "Question 2\n",
    "==========\n",
    "\n",
    "Complete the remaining template of a scientific report that uses the results of simulation (with suitable input data) to investigate whether English or PARS is the ``better'' scoring method for squash matches. \n",
    "\n",
    "You should clearly state any assumptions you make, and may add any number of code cells. Guidance for completing the markdown/text cells is given in the coursework specification. The word count of the remaining markdown/text cells must be at most 750.\n",
    "\n",
    "Your investigation should consider the relative ability of the two players (i.e. `ra/rb`) as the _independent variable_ and include appropriate figures that show how your choice of relevant _dependent variable_ varies. Your results **must** cover at least 50 different values of `ra/rb`.\n",
    "\n",
    "Some starting points you may consider:\n",
    "- How _fair_ is the scoring method - does the better player usually win?\n",
    "- Shorter matches are usually preferable (e.g. for television) - if you assume each rally in a match takes equal time, how long do matches typically last?\n",
    "- What effect does the relative ability of the two players have?\n",
    "\n",
    "**[Report: 7 marks; Achievement: 8 marks]**"
   ]
  },
  {
   "cell_type": "markdown",
   "metadata": {},
   "source": [
    "## Problem"
   ]
  },
  {
   "cell_type": "markdown",
   "metadata": {},
   "source": [
    "words "
   ]
  },
  {
   "cell_type": "markdown",
   "metadata": {},
   "source": [
    "## Method"
   ]
  },
  {
   "cell_type": "code",
   "execution_count": 65,
   "metadata": {},
   "outputs": [
    {
     "data": {
      "image/png": "[encoded data removed]",
      "text/plain": [
       "<Figure size 640x480 with 1 Axes>"
      ]
     },
     "metadata": {},
     "output_type": "display_data"
    }
   ],
   "source": [
    "# English Scoring Function\n",
    "\n",
    "def create_data_set(amount = 100):\n",
    "    data = []\n",
    "    for i in range(amount):\n",
    "        data.append((i + 1,50))\n",
    "\n",
    "    return data\n",
    "\n",
    "def english_rally(p_server, r):\n",
    "    # Return whether the server won the rally\n",
    "    win_rally = False\n",
    "\n",
    "    if (r < p_server):\n",
    "        win_rally = True\n",
    "    else:\n",
    "        win_rally = False\n",
    "\n",
    "    return win_rally\n",
    "\n",
    "def check_score_is_eight(score, player):\n",
    "    if (score == 8):\n",
    "        return player\n",
    "    else:\n",
    "        return None\n",
    "\n",
    "def get_new_win_score(server, player_to_eight_first, pa):\n",
    "    pb = 1 - pa\n",
    "    pass\n",
    "\n",
    "def english_game(ra, rb, server = \"a\"):\n",
    "    pa = ra / (ra + rb)\n",
    "\n",
    "    win_score = 9\n",
    "    a_score = 0\n",
    "    b_score = 0\n",
    "    # Stores the most recent player to get to a score of eight\n",
    "    got_to_eight = None\n",
    "\n",
    "    while (a_score < win_score) and (b_score < win_score):\n",
    "        r = random.random()\n",
    "\n",
    "        if (server == \"a\"):\n",
    "            if (english_rally(pa, r)):\n",
    "                #print(\"a1:\", a_score)\n",
    "                a_score += 1\n",
    "                #print(\"a2:\", a_score)\n",
    "                got_to_eight = check_score_is_eight(a_score, \"a\")\n",
    "            else:\n",
    "                server = \"b\"\n",
    "        else:\n",
    "            if (english_rally(1 - pa, r)):\n",
    "                b_score += 1\n",
    "                got_to_eight = check_score_is_eight(b_score, \"b\")\n",
    "            else:\n",
    "                server = \"a\"\n",
    "\n",
    "        if (a_score == 8 and b_score == 8):\n",
    "            # As got_to_eight stores the most recent player\n",
    "            # the other player must be the one who got to eight first\n",
    "            if (got_to_eight == \"b\"):\n",
    "                got_to_eight = \"a\"\n",
    "            else:\n",
    "                got_to_eight = \"b\"\n",
    "\n",
    "            # Decide whether to play to 9 or 10\n",
    "            win_score = 10 #get_new_win_score(server, got_to_eight, pa)\n",
    "\n",
    "    return [a_score, b_score]\n",
    "\n",
    "def win_probability_english_game(ra, rb, simulations, server=\"a\"):\n",
    "    a_wins = 0\n",
    "    b_wins = 0\n",
    "\n",
    "    for i in range(simulations):\n",
    "        result = english_game(ra, rb, server)\n",
    "        if (result[0] > result[1]):\n",
    "            a_wins += 1\n",
    "        else:\n",
    "            b_wins += 1\n",
    "\n",
    "    return a_wins / (a_wins + b_wins)\n",
    "\n",
    "# ---------------------------------------------------------------- Graph 2\n",
    "\n",
    "def plot_win_probabilities_both(skill_levels, simulations): # HINT: what should the argument be?\n",
    "    a_b_ratio = []\n",
    "    a_probability = []\n",
    "\n",
    "    a_b_ratio_english = []\n",
    "    a_probability_english = []\n",
    "    b_probability_english_b_serves= []\n",
    "\n",
    "    for i in range(len(skill_levels)):\n",
    "        p = skill_levels[i]\n",
    "        a_b_ratio.append(p[0] / p[1])\n",
    "        a_probability.append((win_probability_game(p[0], p[1], simulations)))\n",
    "    \n",
    "    for i in range(len(skill_levels)):\n",
    "        p = skill_levels[i]\n",
    "        a_b_ratio_english.append(p[0] / p[1])\n",
    "        a_probability_english.append((win_probability_english_game(p[0], p[1], simulations)))\n",
    "\n",
    "    for i in range(len(skill_levels)):\n",
    "        p = skill_levels[i]\n",
    "        b_probability_english_b_serves.append((win_probability_english_game(p[0], p[1], simulations, \"b\")))\n",
    "\n",
    "    \n",
    "    plt.xlabel(\"ra / rb\")\n",
    "    plt.ylabel(\"Probability a wins\")\n",
    "    plt.plot(a_b_ratio, a_probability, color=\"red\", label='PARS')\n",
    "    plt.plot(a_b_ratio_english, a_probability_english, color=\"blue\", label='English (a serves)')\n",
    "    plt.plot(a_b_ratio_english, b_probability_english_b_serves, color=\"green\", label='English (b serves)')\n",
    "    plt.legend()\n",
    "\n",
    "    return a_probability\n",
    "\n",
    "# ---------------------------------------------------------------- Graph 1\n",
    "def plot_single_win_probability(ra, rb, simulations):\n",
    "\n",
    "    a_probability_english = []\n",
    "    b_probability_english = []\n",
    "    a_probability_pars = []\n",
    "\n",
    "    for i in range(simulations):\n",
    "        a_probability_pars.append((win_probability_game(ra, rb, simulations)))\n",
    "\n",
    "    for i in range(simulations):\n",
    "        a_probability_english.append((win_probability_english_game(ra, rb, simulations)))\n",
    "\n",
    "    for i in range(simulations):\n",
    "        b_probability_english.append((win_probability_english_game(ra, rb, simulations, \"b\")))\n",
    "    \n",
    "\n",
    "    data = [a_probability_pars, a_probability_english, b_probability_english]\n",
    "\n",
    "    plt.ylabel(\"Probability a wins\")\n",
    "    plt.boxplot(data)\n",
    "    plt.xticks([1, 2, 3], ['PARS', 'English (a serves)', 'English (b serves)'])\n",
    "    \n",
    "    return\n",
    "\n",
    "plot_single_win_probability(50, 50, 1000)\n",
    "\n",
    "\n",
    "d = create_data_set()\n",
    "p = plot_win_probabilities_both(d, 10000)\n",
    "\n",
    "\n"
   ]
  },
  {
   "cell_type": "markdown",
   "metadata": {},
   "source": [
    "## Assumptions"
   ]
  },
  {
   "cell_type": "code",
   "execution_count": 58,
   "metadata": {},
   "outputs": [
    {
     "data": {
      "image/png": "[encoded data removed]",
      "text/plain": [
       "<Figure size 640x480 with 1 Axes>"
      ]
     },
     "metadata": {},
     "output_type": "display_data"
    }
   ],
   "source": [
    "\n",
    "def plot_single_win_probability(ra, rb, simulations):\n",
    "\n",
    "    a_probability_english = []\n",
    "    b_probability_english = []\n",
    "    a_probability_pars = []\n",
    "\n",
    "    for i in range(simulations):\n",
    "        a_probability_pars.append((win_probability_game(ra, rb, simulations)))\n",
    "\n",
    "    for i in range(simulations):\n",
    "        a_probability_english.append((win_probability_english_game(ra, rb, simulations)))\n",
    "\n",
    "    for i in range(simulations):\n",
    "        b_probability_english.append((win_probability_english_game(ra, rb, simulations, \"b\")))\n",
    "    \n",
    "\n",
    "    data = [a_probability_pars, a_probability_english, b_probability_english]\n",
    "\n",
    "    plt.ylabel(\"Probability a wins\")\n",
    "    plt.boxplot(data)\n",
    "    plt.xticks([1, 2, 3], ['PARS', 'English (a serves)', 'English (b serves)'])\n",
    "    \n",
    "    return\n",
    "\n",
    "plot_single_win_probability(50, 50, 1000)\n"
   ]
  },
  {
   "cell_type": "markdown",
   "metadata": {},
   "source": [
    "## Results"
   ]
  },
  {
   "cell_type": "markdown",
   "metadata": {},
   "source": [
    "## Conclusions"
   ]
  }
 ],
 "metadata": {
  "kernelspec": {
   "display_name": "Python 3",
   "language": "python",
   "name": "python3"
  },
  "language_info": {
   "codemirror_mode": {
    "name": "ipython",
    "version": 3
   },
   "file_extension": ".py",
   "mimetype": "text/x-python",
   "name": "python",
   "nbconvert_exporter": "python",
   "pygments_lexer": "ipython3",
   "version": "3.10.0"
  },
  "orig_nbformat": 4,
  "vscode": {
   "interpreter": {
    "hash": "369f2c481f4da34e4445cda3fffd2e751bd1c4d706f27375911949ba6bb62e1c"
   }
  }
 },
 "nbformat": 4,
 "nbformat_minor": 2
}
