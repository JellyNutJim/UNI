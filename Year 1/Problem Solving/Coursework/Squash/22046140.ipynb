{
 "cells": [
  {
   "cell_type": "code",
   "execution_count": 120,
   "metadata": {},
   "outputs": [],
   "source": [
    "# You may add additional imports here\n",
    "import random \n",
    "import csv\n",
    "import matplotlib.pyplot as plt"
   ]
  },
  {
   "cell_type": "markdown",
   "metadata": {},
   "source": [
    "Question 1\n",
    "==========\n",
    "\n",
    "All parts of Question 1 use the _point-a-rally (PARS) scoring_ system.\n",
    "\n",
    "**Question 1a:** Complete the following function so that it implements the PARS algorithm from the coursework specification.\n",
    "\n",
    "**[Functionality: 7 marks]**"
   ]
  },
  {
   "cell_type": "code",
   "execution_count": 121,
   "metadata": {},
   "outputs": [],
   "source": [
    "def game(ra, rb):\n",
    "    # Probability A wins\n",
    "    PA = ra/(ra + rb)\n",
    "    a_score = 0\n",
    "    b_score = 0\n",
    "\n",
    "    while not ((a_score >= 11 and (b_score <= a_score - 2 )) or (b_score >= 11 and (a_score <= b_score - 2))):\n",
    "        r = random.random()\n",
    "        if (r < PA): \n",
    "            # A scores\n",
    "            a_score += 1\n",
    "        else: \n",
    "            # B scores\n",
    "            b_score += 1\n",
    "\n",
    "    return [a_score, b_score]"
   ]
  },
  {
   "cell_type": "markdown",
   "metadata": {},
   "source": [
    "**Testing:** If the random seed is set to 57, then calling the function with arguments `70` and `30` should return `(11,5)`."
   ]
  },
  {
   "cell_type": "code",
   "execution_count": 122,
   "metadata": {},
   "outputs": [
    {
     "name": "stdout",
     "output_type": "stream",
     "text": [
      "[11, 5]\n"
     ]
    }
   ],
   "source": [
    "random.seed(57)\n",
    "print(game(70, 30))"
   ]
  },
  {
   "cell_type": "markdown",
   "metadata": {},
   "source": [
    "**Question 1b:** Complete the following function `win_probability_game(ra, rb, simulations)` to simulate `simulations` games in order to estimate the probability that a player with ability `ra` will win a game against a player of ability `rb`.\n",
    "\n",
    "**[Functionality: 4 marks]**"
   ]
  },
  {
   "cell_type": "code",
   "execution_count": 123,
   "metadata": {},
   "outputs": [],
   "source": [
    "# This may not be the best solution, but I wanted to allow this function to be used for both the pars and english games\n",
    "# without re-writing code.\n",
    "def win_probability_game(ra, rb, simulations, game_func = game, extra = None):\n",
    "    a_wins = 0\n",
    "    b_wins = 0\n",
    "    param = None\n",
    "\n",
    "    if (extra == None):\n",
    "        params = (ra, rb)\n",
    "    else:\n",
    "        params = (ra, rb, extra)\n",
    "\n",
    "    for i in range(simulations):\n",
    "        result = game_func(*params)\n",
    "        if (result[0] > result[1]):\n",
    "            a_wins += 1\n",
    "        else:\n",
    "            b_wins += 1\n",
    "\n",
    "    return a_wins / (a_wins + b_wins)\n",
    "    "
   ]
  },
  {
   "cell_type": "markdown",
   "metadata": {},
   "source": [
    "**Testing:** Given sufficient simulations, calling the function with abilities `70` and `30` should give the answer `0.98` when printed to 2 decimal places."
   ]
  },
  {
   "cell_type": "code",
   "execution_count": 124,
   "metadata": {},
   "outputs": [
    {
     "name": "stdout",
     "output_type": "stream",
     "text": [
      "0.98\n"
     ]
    }
   ],
   "source": [
    "# Print win_probability_game(70, 30) to 2 decimal places for a suitable value of n:\n",
    "print(round(win_probability_game(70, 30, 10000), 2))"
   ]
  },
  {
   "cell_type": "markdown",
   "metadata": {},
   "source": [
    "**Question 1c:** Assume players abilities are given in a csv file with the format:\n",
    "```\n",
    "player a ability, player b ability,\n",
    "60, 20,\n",
    "100, 55,\n",
    "50, 40,\n",
    "20, 70,\n",
    "95, 85,\n",
    "```\n",
    "Complete the following function to read in a specified csv file of this format and return a `list` of `tuple`s containing each pair of abilities.\n",
    "\n",
    "**[Functionality: 4 marks]**"
   ]
  },
  {
   "cell_type": "code",
   "execution_count": 125,
   "metadata": {},
   "outputs": [],
   "source": [
    "def read_abilities(file_name): # HINT: what should the argument be?\n",
    "    pairs = []\n",
    "    with open(file_name) as csvfile:\n",
    "        reader = csv.reader(csvfile)\n",
    "\n",
    "        # Skip the first line (the header)\n",
    "        rows = iter(reader)\n",
    "        next(rows)\n",
    "\n",
    "        for row in rows:\n",
    "            pairs.append((int(row[0]), int(row[1])))\n",
    "\n",
    "    return pairs"
   ]
  },
  {
   "cell_type": "markdown",
   "metadata": {},
   "source": [
    "**Testing:** Calling the function to read the file `test.csv` from Learning Central should return `[(60, 20), (100, 55), (50, 40), (20, 70), (95, 85)]`"
   ]
  },
  {
   "cell_type": "code",
   "execution_count": 126,
   "metadata": {},
   "outputs": [
    {
     "data": {
      "text/plain": [
       "[(60, 20), (100, 55), (50, 40), (20, 70), (95, 85)]"
      ]
     },
     "execution_count": 126,
     "metadata": {},
     "output_type": "execute_result"
    }
   ],
   "source": [
    "# Print the result of calling the function for the file `test.csv`\n",
    "read_abilities(\"test.csv\")"
   ]
  },
  {
   "cell_type": "markdown",
   "metadata": {},
   "source": [
    "**Question 1d:** Write a function that takes a `list` of the format returned by your answer to 1c as an argument, and uses `matplotlib` to produce a plot (with labelled axes) showing the probability that player a beats player b (in a game) against `ra / r_b` for each pair.\n",
    "\n",
    "**[Functionality: 5 marks]**"
   ]
  },
  {
   "cell_type": "code",
   "execution_count": 127,
   "metadata": {},
   "outputs": [],
   "source": [
    "def plot_win_probabilities(skill_levels, simulations): # HINT: what should the argument be?\n",
    "    a_b_ratio = []\n",
    "    a_probability = []\n",
    "\n",
    "    for i in skill_levels:\n",
    "        a_b_ratio.append(i[0] / i[1])\n",
    "        a_probability.append((win_probability_game(i[0], i[1], simulations)))\n",
    "\n",
    "    plt.xlabel(\"ra / rb\")\n",
    "    plt.ylabel(\"Probability a wins\")\n",
    "    plt.plot(a_b_ratio, a_probability, 'ro')\n",
    "\n",
    "    return a_probability"
   ]
  },
  {
   "cell_type": "markdown",
   "metadata": {},
   "source": [
    "**Testing:** The following figure (or similar) should result from the data `[(60, 20), (100, 55), (50, 40), (20, 70), (95, 85)]'\n",
    "\n",
    "<img src=\"./win_probabilities.png\" alt=\"Win probabilities\" width=\"500\">\n"
   ]
  },
  {
   "cell_type": "code",
   "execution_count": 128,
   "metadata": {},
   "outputs": [
    {
     "data": {
      "text/plain": [
       "[0.995, 0.916, 0.7, 0.003, 0.6]"
      ]
     },
     "execution_count": 128,
     "metadata": {},
     "output_type": "execute_result"
    },
    {
     "data": {
      "image/png": "[encoded data removed]",
      "text/plain": [
       "<Figure size 640x480 with 1 Axes>"
      ]
     },
     "metadata": {},
     "output_type": "display_data"
    }
   ],
   "source": [
    "# Call the function to plot the figure here\n",
    "plot_win_probabilities(read_abilities(\"test.csv\"), 1000)"
   ]
  },
  {
   "cell_type": "markdown",
   "metadata": {},
   "source": [
    "**Question 1e:** Complete the following function `win_probability_match(ra, rb, simulations, m)` to simulate `simulations` matches which are won by the first player to win `m` games, and returns an estimate of the probability that a player with ability `ra` will win such a match against a player of ability `rb`.\n",
    "\n",
    "Provide code that works out the smallest value of `m` such that `win_probability_match(60, 40, simulations, m)` is at least `0.9`. \n",
    "\n",
    "_HINT: make sure you use an appropriate value for `simulations`._\n",
    "\n",
    "**[Functionality: 5 marks]**"
   ]
  },
  {
   "cell_type": "code",
   "execution_count": 129,
   "metadata": {},
   "outputs": [
    {
     "data": {
      "text/plain": [
       "2"
      ]
     },
     "execution_count": 129,
     "metadata": {},
     "output_type": "execute_result"
    }
   ],
   "source": [
    "def play_pars_match(ra, rb, m):\n",
    "    # How many games either a or b have won\n",
    "    a_game_wins = 0\n",
    "    b_game_wins = 0\n",
    "     \n",
    "    while (a_game_wins < m ) and (b_game_wins < m):\n",
    "        score = game(ra, rb)\n",
    "        if (score[0] > score[1]):\n",
    "            a_game_wins += 1\n",
    "        else:\n",
    "            b_game_wins += 1\n",
    "\n",
    "    return [a_game_wins, b_game_wins] \n",
    "\n",
    "def win_probability_match(ra, rb, simulations, m):\n",
    "    # How many times a or b won a match\n",
    "    a_match_wins = 0\n",
    "    b_match_wins = 0\n",
    "\n",
    "    for i in range(simulations):\n",
    "        game_wins = play_pars_match(ra, rb, m)\n",
    "        \n",
    "        if (game_wins[0] > game_wins[1]):\n",
    "            a_match_wins += 1\n",
    "        else:\n",
    "            b_match_wins += 1\n",
    "\n",
    "    return a_match_wins / (a_match_wins + b_match_wins)\n",
    "    \n",
    "def calc_lowest_m(ra, rb, simulations):\n",
    "    prob = 0\n",
    "    m = 0\n",
    "\n",
    "    while (prob < 0.9):\n",
    "        m += 1\n",
    "        prob = win_probability_match(ra, rb, simulations, m)\n",
    "\n",
    "    return m\n",
    "\n",
    "# Calculate lowest value of m here\n",
    "calc_lowest_m(60, 40, 10000)"
   ]
  },
  {
   "cell_type": "markdown",
   "metadata": {},
   "source": [
    "Question 2\n",
    "==========\n",
    "\n",
    "Complete the remaining template of a scientific report that uses the results of simulation (with suitable input data) to investigate whether English or PARS is the ``better'' scoring method for squash matches. \n",
    "\n",
    "You should clearly state any assumptions you make, and may add any number of code cells. Guidance for completing the markdown/text cells is given in the coursework specification. The word count of the remaining markdown/text cells must be at most 750.\n",
    "\n",
    "Your investigation should consider the relative ability of the two players (i.e. `ra/rb`) as the _independent variable_ and include appropriate figures that show how your choice of relevant _dependent variable_ varies. Your results **must** cover at least 50 different values of `ra/rb`.\n",
    "\n",
    "Some starting points you may consider:\n",
    "- How _fair_ is the scoring method - does the better player usually win?\n",
    "- Shorter matches are usually preferable (e.g. for television) - if you assume each rally in a match takes equal time, how long do matches typically last?\n",
    "- What effect does the relative ability of the two players have?\n",
    "\n",
    "**[Report: 7 marks; Achievement: 8 marks]**"
   ]
  },
  {
   "cell_type": "code",
   "execution_count": 130,
   "metadata": {},
   "outputs": [],
   "source": [
    "# English Scoring Code\n",
    "\n",
    "def create_data_set(amount = 100):\n",
    "    data = []\n",
    "    for i in range(amount):\n",
    "        data.append((i + 1,50))\n",
    "\n",
    "    return data\n",
    "\n",
    "def check_score_is_eight(score, player):\n",
    "    if (score == 8):\n",
    "        return player\n",
    "    else:\n",
    "        return None\n",
    "\n",
    "def get_new_win_score(server, player_to_eight_first, pa):\n",
    "    r = random.random()\n",
    "\n",
    "    if (r < 0.5):\n",
    "        return 10\n",
    "    else:\n",
    "        return 9\n",
    "\n",
    "\n",
    "def english_game(ra, rb, server = \"a\"):\n",
    "    pa = ra / (ra + rb)\n",
    "\n",
    "    win_score = 9\n",
    "    a_score = 0\n",
    "    b_score = 0\n",
    "    # Stores the most recent player to get to a score of eight\n",
    "    got_to_eight = None\n",
    "\n",
    "    while (a_score < win_score) and (b_score < win_score):\n",
    "        win_chance = random.random()\n",
    "\n",
    "        if (server == \"a\"):\n",
    "            if (win_chance < pa):\n",
    "                a_score += 1\n",
    "                got_to_eight = check_score_is_eight(a_score, \"a\")\n",
    "            else:\n",
    "                server = \"b\"\n",
    "        else:\n",
    "            if (win_chance < 1 - pa):\n",
    "                b_score += 1\n",
    "                got_to_eight = check_score_is_eight(b_score, \"b\")\n",
    "            else:\n",
    "                server = \"a\"\n",
    "\n",
    "        if (a_score == 8 and b_score == 8):\n",
    "            # As got_to_eight stores the most recent player\n",
    "            # the other player must be the one who got to eight first\n",
    "            if (got_to_eight == \"b\"):\n",
    "                got_to_eight = \"a\"\n",
    "            else:\n",
    "                got_to_eight = \"b\"\n",
    "\n",
    "            # Decide whether to play to 9 or 10\n",
    "            win_score = 10 \n",
    "            #win_score = get_new_win_score(server, got_to_eight, pa)\n",
    "\n",
    "    return [a_score, b_score]\n",
    "\n"
   ]
  },
  {
   "cell_type": "code",
   "execution_count": 137,
   "metadata": {},
   "outputs": [],
   "source": [
    "# Graph code\n",
    "\n",
    "# ---------------------------------------------------------------- Graph 1\n",
    "def plot_single_win_probability(ra, rb, simulations):\n",
    "\n",
    "    a_probability_english = []\n",
    "    b_probability_english = []\n",
    "    a_probability_pars = []\n",
    "    test = []\n",
    "\n",
    "    for i in range(simulations):\n",
    "        a_probability_pars.append((win_probability_game(ra, rb, simulations, game)))\n",
    "\n",
    "    for i in range(simulations):\n",
    "        a_probability_english.append((win_probability_game(ra, rb, simulations, english_game)))\n",
    "\n",
    "    for i in range(simulations):\n",
    "        b_probability_english.append((win_probability_game(ra, rb, simulations, english_game, \"b\")))\n",
    "    \n",
    "    for i in range(simulations):\n",
    "        r = random.random()\n",
    "        if (r < 0.5):\n",
    "            t = \"a\"\n",
    "        else:\n",
    "            t = \"b\"\n",
    "        test.append((win_probability_game(ra, rb, simulations, english_game, t)))\n",
    "        \n",
    "\n",
    "    data = [a_probability_pars, a_probability_english, b_probability_english, test]\n",
    "\n",
    "    plt.ylabel(\"Probability a wins\")\n",
    "    plt.boxplot(data)\n",
    "    plt.xticks([1, 2, 3, 4], ['PARS', 'English\\n(a serves)', 'English\\n(b serves)', 'English\\n(Random server)'])\n",
    "    plt.title(\"Equal skill levels\")\n",
    "    \n",
    "    return\n",
    "\n",
    "# ---------------------------------------------------------------- Graph 2\n",
    "def plot_win_probabilities_both(skill_levels, simulations): # HINT: what should the argument be?\n",
    "    a_b_ratio = []\n",
    "    a_probability = []\n",
    "\n",
    "    a_b_ratio_english = []\n",
    "    a_probability_english = []\n",
    "    b_probability_english_b_serves= []\n",
    "\n",
    "    test = []\n",
    "\n",
    "    for i in range(len(skill_levels)):\n",
    "        p = skill_levels[i]\n",
    "        a_b_ratio.append(p[0] / p[1])\n",
    "        a_probability.append((win_probability_game(p[0], p[1], simulations, game)))\n",
    "    \n",
    "    for i in range(len(skill_levels)):\n",
    "        p = skill_levels[i]\n",
    "        a_b_ratio_english.append(p[0] / p[1])\n",
    "        a_probability_english.append((win_probability_game(p[0], p[1], simulations, english_game)))\n",
    "\n",
    "    for i in range(len(skill_levels)):\n",
    "        p = skill_levels[i]\n",
    "        b_probability_english_b_serves.append((win_probability_game(p[0], p[1], simulations, english_game, \"b\")))\n",
    "\n",
    "    #for i in range(simulations):\n",
    "    #    r = random.random()\n",
    "    #    if (r < 0.5):\n",
    "    #        t = \"a\"\n",
    "    #    else:\n",
    "    #        t = \"b\"\n",
    "    #    test.append((win_probability_english_game(p[0], p[1], simulations, t)))\n",
    "    \n",
    "    plt.xlabel(\"ra / rb\")\n",
    "    plt.ylabel(\"Probability a wins\")\n",
    "    plt.plot(a_b_ratio, a_probability, color=\"red\", label='PARS')\n",
    "    plt.plot(a_b_ratio_english, a_probability_english, color=\"blue\", label='English (a serves)')\n",
    "    plt.plot(a_b_ratio_english, b_probability_english_b_serves, color=\"green\", label='English (b serves)')\n",
    "    #plt.plot(a_b_ratio_english, test, color=\"oranage\", label='random')\n",
    "    plt.title(\"Probability A wins a given game\")\n",
    "    plt.subplots_adjust(bottom=0.1)\n",
    "    plt.legend()\n",
    "\n",
    "    return a_probability\n",
    "\n"
   ]
  },
  {
   "cell_type": "markdown",
   "metadata": {},
   "source": [
    "## Problem"
   ]
  },
  {
   "attachments": {},
   "cell_type": "markdown",
   "metadata": {},
   "source": [
    "I am investigating which squash scoring system, Point-a-rally or English scoring, is better. To determine the better system, I will take factors such as player advantage and skill into account.\n",
    "Personally, I am expecting the initial server in an English game to have a higher chance of winning a game for a particular value of ra/rb verses PARS. This is because the opponent must win 2 rallies in a row to get one point unlike PARS. Using pars, in my simulation, the server should have no increased odds of winning."
   ]
  },
  {
   "cell_type": "markdown",
   "metadata": {},
   "source": [
    "## Method"
   ]
  },
  {
   "attachments": {},
   "cell_type": "markdown",
   "metadata": {},
   "source": [
    "Each player has a skill level (1 - 100) which can be used to calculate the chance of them winning a point. \n",
    "To show how these systems, differ, I will perform 2 main simulations. Firstly, a simulation which takes a large range of ra/rb (100 values) and compares the probability that player A wins for each value. Rb shall remain constant (at 50) and ra shall range from 1 to 100. The probability will be calculated by running many games for each ra/rb value and getting the average chance of victory for a. Then, the probability will be plotted against ra/rb on a graph for both PARS and English games. \n",
    "To implement this, I will have to create an English game function and a function to call it simulation times and return the average probability for a. Ra and rb will be given as parameters along with the number of simulations. The server will be given as a parameter.\n",
    "Secondly, I am going to do another similar simulation except that this time ra/rb remains constant. This is to compare whether a particular player has a win advantage even if skill levels are equal. The same functions will be used, but now it will be plotted using a box plot. "
   ]
  },
  {
   "cell_type": "markdown",
   "metadata": {},
   "source": [
    "## Assumptions"
   ]
  },
  {
   "attachments": {},
   "cell_type": "markdown",
   "metadata": {},
   "source": [
    "During these simulations, we are assuming that a player does not get tired during a game, thus their skill or ability to successfully win a rally stays constant throughout a match.  We are also assuming that no external/environmental factors effect a player’s skill. E.g. pressure of winning could increase their likelihood of making a misplay.  And that one player does not perform better as a server. "
   ]
  },
  {
   "cell_type": "markdown",
   "metadata": {},
   "source": [
    "## Results"
   ]
  },
  {
   "cell_type": "code",
   "execution_count": 132,
   "metadata": {},
   "outputs": [
    {
     "data": {
      "image/png": "[encoded data removed]",
      "text/plain": [
       "<Figure size 640x480 with 1 Axes>"
      ]
     },
     "metadata": {},
     "output_type": "display_data"
    }
   ],
   "source": [
    "plot_single_win_probability(50, 50, 1000)"
   ]
  },
  {
   "attachments": {},
   "cell_type": "markdown",
   "metadata": {},
   "source": [
    "From this graph we can determine a few things. Firstly, PARS produces an almost equal distribution around 0.5 (50%). Suggesting that each player has an equal chance of winning the game.\n",
    "In the second and third plot, we can see that the initial server effects the probability of A winning. Therefore, we can deduce that the initial server has a slightly higher chance of winning a game. The fourth plot has a much larger spread showing how much a game can vary purely on who plays first."
   ]
  },
  {
   "cell_type": "code",
   "execution_count": 138,
   "metadata": {},
   "outputs": [
    {
     "data": {
      "image/png": "[encoded data removed]",
      "text/plain": [
       "<Figure size 640x480 with 1 Axes>"
      ]
     },
     "metadata": {},
     "output_type": "display_data"
    }
   ],
   "source": [
    "d = create_data_set()\n",
    "p = plot_win_probabilities_both(d, 1000)"
   ]
  },
  {
   "attachments": {},
   "cell_type": "markdown",
   "metadata": {},
   "source": [
    "This graph further supports the theory as a clearly has a higher chance of winning than b for the majority of ra/rb when serving. However, it also shows that for low values of ra/rb being the initial server has a lower chance of winning than in PARS. This is most likely due to the fact that once the opponent becomes the server, their skill level outweighs the impact of initially serving and they have a higher chance of continuing than the opponent winning twice in a row. This is even more noticeable when b serves as it takes a higher level of ra/rb for the probability to exceed the pars game."
   ]
  },
  {
   "cell_type": "markdown",
   "metadata": {},
   "source": [
    "## Conclusions"
   ]
  },
  {
   "attachments": {},
   "cell_type": "markdown",
   "metadata": {},
   "source": [
    "In conclusion, I believe that PARS is the better squash scoring system. This is because in English scoring, the initial server has an increase in their chances of winning at an equal or higher skill level. And at a lower skill level their chances of winning are reduced regardless, but more noticeably when they are not the server. In my opinion a player should not have an advantage based on initial starting conditions and should only have an advantage based on their own skill. Even if the server is determined randomly, it is still possible that one player ends up starting first multiple times just due to random chance. In the future I would also like to test factors such as game length to improve my decision as the difference in win rate is not as much as expected. Additionally testing equal skill levels causes very long game times, and thus takes much longer to calculate, I would use different skill levels in future projects. My system was also limited by the range of ra/rb values. Thus, I would also increase the amount of values."
   ]
  }
 ],
 "metadata": {
  "kernelspec": {
   "display_name": "Python 3.10.8 64-bit (microsoft store)",
   "language": "python",
   "name": "python3"
  },
  "language_info": {
   "codemirror_mode": {
    "name": "ipython",
    "version": 3
   },
   "file_extension": ".py",
   "mimetype": "text/x-python",
   "name": "python",
   "nbconvert_exporter": "python",
   "pygments_lexer": "ipython3",
   "version": "3.10.8"
  },
  "orig_nbformat": 4,
  "vscode": {
   "interpreter": {
    "hash": "4bf5c7ff2d48beabda035b25cdbc1b75d88d9fcaadbf5362e99277f43c7d1e7c"
   }
  }
 },
 "nbformat": 4,
 "nbformat_minor": 2
}
